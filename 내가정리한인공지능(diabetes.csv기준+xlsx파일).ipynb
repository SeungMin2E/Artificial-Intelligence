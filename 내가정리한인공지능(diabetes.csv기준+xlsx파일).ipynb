{
 "cells": [
  {
   "cell_type": "markdown",
   "id": "505eed62-fbaf-4b6b-b0f2-33e9adacac4d",
   "metadata": {},
   "source": [
    "#**이걸 보고 이런식으로 처음부터 하면된다. 기초 틀 정리**\n",
    "## 📌데이터 받아오기 (diabetes.csv 기준 + combined_dataset.xlsx 기준 )\n",
    "#### 지금 코드 흐름:\n",
    "##### 1. 데이터 로딩 : CSV 파일을 불러와 데이터프레임 생성\n",
    "##### 2. 결측치 확인 및 처리 : 데이터에 누락된 값이 있는지 확인\n",
    "##### 3. 이상치 처리 (IQR 방식) : IQR 방식으로 이상치를 중앙값으로 대체\n",
    "##### 4. 레이블 확인 (df['Outcome'].value_counts()) : Outcome 값이 얼마나 분포되어 있는지 확인 (imbalanced data 체크) 레이블 값은 다를 수 있음 ex) label,outcome \n",
    "##### 5. 데이터 분리 (X, y 나누기) : X(입력값)과 y(레이블)로 나누고, 훈련/테스트 데이터로 분리\n",
    "##### 6. 데이터 스케일링 (StandardScaler 적용) : StandardScaler()를 사용해 입력 데이터를 표준화\n",
    "##### 7. 모델 학습 및 평가 : 모델을 학습시키고 정확도, 혼동 행렬을 출력"
   ]
  },
  {
   "cell_type": "code",
   "execution_count": 124,
   "id": "2cd6b8fa-71f7-4da2-b7dc-70e8164f24fb",
   "metadata": {},
   "outputs": [],
   "source": [
    "# 여긴 데이터 로딩 \n",
    "import pandas as pd  # pandas : 데이터 분석을 위한 라이브러리, ex) pd.read_csv(), df['col'], df.drop() 데이터 변환 가능\n",
    "import numpy as np # numpy: 고성능 수치 계산을 위한 라이브러리입니다. 주로 배열(array)을 처리할 때 사용됩니다. 벡터화된 연산을 통해 빠르게 수치 데이터를 다룰 수 있습니다.\n",
    "import seaborn as sns # seaborn: 데이터 시각화를 위한 라이브러리입니다. matplotlib의 기능을 확장하여 더 쉽게 통계적 시각화를 할 수 있습니다. ex) sns.scatterplot(), sns.barplot()\n",
    "import matplotlib.pyplot as plt # matplotlib: 그래프와 플롯을 그리기 위한 가장 기본적인 라이브러리입니다. pyplot 모듈을 통해 선 그래프, 막대 그래프, 히스토그램 등을 그릴 수 있습니다.\n",
    "from sklearn.model_selection import train_test_split\n",
    "from sklearn.preprocessing import StandardScaler\n",
    "from sklearn.ensemble import RandomForestClassifier\n",
    "from sklearn.tree import DecisionTreeClassifier\n",
    "from sklearn.linear_model import LogisticRegression\n",
    "from sklearn.neighbors import KNeighborsClassifier\n",
    "from sklearn.svm import SVC\n",
    "from sklearn.metrics import accuracy_score, confusion_matrix\n",
    "\n",
    "#train_test_split: 데이터셋을 훈련 데이터와 테스트 데이터로 나누는 함수입니다. 모델 훈련 시 교차 검증을 할 때 유용하게 사용됩니다.\n",
    "#StandardScaler: 특징 스케일링(표준화)을 위한 도구입니다. 모델링 전, 특성 값들이 다른 범위에 있을 때 이를 표준화하여 모델 학습의 성능을 개선할 수 있습니다\n",
    "#LabelEncoder: 범주형 레이블(문자 등)을 숫자 형태로 변환할 때 써요.\n",
    "#RandomForestClassifier, DecisionTreeClassifier, LogisticRegression, KNeighborsClassifier, SVC: 각각 랜덤 포레스트, 결정 트리, 로지스틱 회귀, K-최근접 이웃, 서포트 벡터 머신 모델을 만들기 위한 클래스예요.\n",
    "#accuracy_score: 모델의 정확도를 계산하는 데 사용해요.\n",
    "#confusion_matrix: 모델의 혼동 행렬을 계산하는 함수입니다. 분류 문제에서 진짜 양성, 진짜 음성, 가짜 양성, 가짜 음성을 구체적으로 보여줍니다."
   ]
  },
  {
   "cell_type": "markdown",
   "id": "7cbf7524-7123-4ad8-af3e-b495c892117a",
   "metadata": {},
   "source": [
    "## 📌 데이터 로딩 역할 !!\n",
    "\n",
    "##### df = pd.read_csv(\"여긴 내 파일이 있는 주소를 적어주면 됨/diabetes.csv\").copy()\n",
    "##### diabetes.csv 파일을 읽어서 df에 저장.\n",
    "##### .copy()를 사용해서 원본 데이터프레임을 보호 (불필요한 경고 방지). copy는 보통 안썻음."
   ]
  },
  {
   "cell_type": "markdown",
   "id": "d51bac2c-fd07-4bff-a5d8-ac5240054791",
   "metadata": {},
   "source": [
    "##### 보통 copy는 원본 데이터 변경을 피하고 싶을때 사용. 그니까 데이터를 수정할 때 원본 데이터프레임을 변경하지 않도록 보장하고 싶을 때 쓰는 방식\n",
    "##### ex) df = pd.read_csv(\"titanic.csv\").copy() -> 데이터를 깊은 복사해서 df에 저장하는 코드 원본 데이터의 안전성 보장! "
   ]
  },
  {
   "cell_type": "markdown",
   "id": "d7fbc98d-1df9-43a2-a117-e7b088c62ea6",
   "metadata": {},
   "source": [
    "#### (1). url을 그대로 가져오는 방식 "
   ]
  },
  {
   "cell_type": "code",
   "execution_count": 92,
   "id": "85d28179-70e5-415c-9371-b5977c5b0172",
   "metadata": {
    "scrolled": true
   },
   "outputs": [
    {
     "name": "stdout",
     "output_type": "stream",
     "text": [
      "   Pregnancies  Glucose  BloodPressure  SkinThickness  Insulin   BMI  \\\n",
      "0            6      148             72             35        0  33.6   \n",
      "1            1       85             66             29        0  26.6   \n",
      "2            8      183             64              0        0  23.3   \n",
      "3            1       89             66             23       94  28.1   \n",
      "4            0      137             40             35      168  43.1   \n",
      "\n",
      "   DiabetesPedigreeFunction  Age  Outcome  \n",
      "0                     0.627   50        1  \n",
      "1                     0.351   31        0  \n",
      "2                     0.672   32        1  \n",
      "3                     0.167   21        0  \n",
      "4                     2.288   33        1  \n"
     ]
    }
   ],
   "source": [
    "# (1). url을 그대로 가져오는 방식 \n",
    "import pandas as pd\n",
    "\n",
    "url = \"https://raw.githubusercontent.com/MyungKyuYi/AI-class/main/diabetes.csv\"\n",
    "df1= pd.read_csv(url)\n",
    "print(df1.head())\n",
    "\n",
    "# 근데 이 방식으로 url 가져올때 오류 발생으로 인해 gpt 도움으로 raw 방식으로 url을 사용해서 가져옴 \n",
    "# 원인은 : 잘못된 URL 사용\n",
    "#https://github.com/... 형식의 URL은 HTML 페이지를 반환하므로, Pandas가 CSV로 읽지 못합니다.\n",
    "#CSV 원본 파일을 직접 다운로드할 수 있는 raw URL을 사용해야 합니다. \n",
    "# 위와 같은 이유로 raw 방식을 사용해야함."
   ]
  },
  {
   "cell_type": "markdown",
   "id": "9ee621eb-7627-414f-93b8-3b7ca2fb1333",
   "metadata": {},
   "source": [
    "#### (2). 내 컴퓨터에 csv 저장한거 가져오는 방식 !! "
   ]
  },
  {
   "cell_type": "code",
   "execution_count": 94,
   "id": "9d0f912d-d774-4f25-a9cb-a28944bebf72",
   "metadata": {},
   "outputs": [
    {
     "name": "stdout",
     "output_type": "stream",
     "text": [
      "   Pregnancies  Glucose  BloodPressure  SkinThickness  Insulin   BMI  \\\n",
      "0            6      148             72             35        0  33.6   \n",
      "1            1       85             66             29        0  26.6   \n",
      "2            8      183             64              0        0  23.3   \n",
      "3            1       89             66             23       94  28.1   \n",
      "4            0      137             40             35      168  43.1   \n",
      "\n",
      "   DiabetesPedigreeFunction  Age  Outcome  \n",
      "0                     0.627   50        1  \n",
      "1                     0.351   31        0  \n",
      "2                     0.672   32        1  \n",
      "3                     0.167   21        0  \n",
      "4                     2.288   33        1  \n"
     ]
    }
   ],
   "source": [
    "# (2). 내 컴퓨터에 csv 저장한거 가져오는 방식 !! \n",
    "import pandas as pd\n",
    "file_path = \"C:/Users/min22/Desktop/Artifical intelligence/diabetes.csv\"\n",
    "\n",
    "df2 = pd.read_csv(file_path)\n",
    "print(df2.head())\n",
    "# 여기서 주의 해야할점은 내 폴더 안에 csv 파일 들어가있는거 주소 복사해서 넣을때 그대로 넣으면 오류뜨니까 /로 바꿔줘야함 !! \n"
   ]
  },
  {
   "cell_type": "markdown",
   "id": "f578406b-9fc1-40c2-9940-d536ef3f9fb4",
   "metadata": {},
   "source": [
    "#### (3). 내 컴퓨터에서 xlsx 파일 가져오는 방식!! "
   ]
  },
  {
   "cell_type": "code",
   "execution_count": 96,
   "id": "58503205-7cc1-42a6-a852-92fec581e5d1",
   "metadata": {},
   "outputs": [
    {
     "name": "stdout",
     "output_type": "stream",
     "text": [
      "   Num.  subject_ID Sex(M/F)  Age(year)  Height(cm)  Weight(kg)  \\\n",
      "0     1           2   Female         45         152          63   \n",
      "1     1           2   Female         45         152          63   \n",
      "2     1           2   Female         45         152          63   \n",
      "3     2           3   Female         50         157          50   \n",
      "4     2           3   Female         50         157          50   \n",
      "\n",
      "   Systolic Blood Pressure(mmHg)  Diastolic Blood Pressure(mmHg)  \\\n",
      "0                            161                              89   \n",
      "1                            161                              89   \n",
      "2                            161                              89   \n",
      "3                            160                              93   \n",
      "4                            160                              93   \n",
      "\n",
      "   Heart Rate(b/m)  BMI(kg/m^2)  ...  2091  2092  2093  2094  2095  2096  \\\n",
      "0               97    27.268006  ...  1766  1766  1766  1833  1833  1827   \n",
      "1               97    27.268006  ...  1985  1985  2026  2026  2026  1977   \n",
      "2               97    27.268006  ...  1942  1900  1900  1938  1938  1938   \n",
      "3               76    20.284799  ...  2073  2072  2072  2072  2051  2051   \n",
      "4               76    20.284799  ...  2021  2010  2010  2010  2001  2001   \n",
      "\n",
      "   2097  2098  2099  2100  \n",
      "0  1827  1827  1754  1754  \n",
      "1  1977  1997  1997  1997  \n",
      "2  1924  1924  1929  1929  \n",
      "3  2036  2036  2036  2045  \n",
      "4  2003  2003  2003  1989  \n",
      "\n",
      "[5 rows x 2114 columns]\n"
     ]
    }
   ],
   "source": [
    "# (3). 내 컴퓨터에서 xlsx 파일 가져오는 방식!! \n",
    "import pandas as pd\n",
    "\n",
    "# 파일 경로 \n",
    "file_path = \"C:/Users/min22/Desktop/Artifical intelligence/combined_dataset-1.xlsx\"\n",
    "\n",
    "# 엑셀 파일 불러오기\n",
    "df3 = pd.read_excel(file_path)\n",
    "\n",
    "# 데이터 확인\n",
    "print(df3.head())"
   ]
  },
  {
   "cell_type": "markdown",
   "id": "c127bd4c-ebe5-4351-b47f-82819279ced7",
   "metadata": {},
   "source": [
    "#### (4). url주소로 xlsx파일을 가져오는 방식!! "
   ]
  },
  {
   "cell_type": "code",
   "execution_count": 99,
   "id": "4265228b-e366-493a-920b-fafeaffff7cd",
   "metadata": {},
   "outputs": [
    {
     "name": "stdout",
     "output_type": "stream",
     "text": [
      "   Num.  subject_ID Sex(M/F)  Age(year)  Height(cm)  Weight(kg)  \\\n",
      "0     1           2   Female         45         152          63   \n",
      "1     1           2   Female         45         152          63   \n",
      "2     1           2   Female         45         152          63   \n",
      "3     2           3   Female         50         157          50   \n",
      "4     2           3   Female         50         157          50   \n",
      "\n",
      "   Systolic Blood Pressure(mmHg)  Diastolic Blood Pressure(mmHg)  \\\n",
      "0                            161                              89   \n",
      "1                            161                              89   \n",
      "2                            161                              89   \n",
      "3                            160                              93   \n",
      "4                            160                              93   \n",
      "\n",
      "   Heart Rate(b/m)  BMI(kg/m^2)  ...  2091  2092  2093  2094  2095  2096  \\\n",
      "0               97    27.268006  ...  1766  1766  1766  1833  1833  1827   \n",
      "1               97    27.268006  ...  1985  1985  2026  2026  2026  1977   \n",
      "2               97    27.268006  ...  1942  1900  1900  1938  1938  1938   \n",
      "3               76    20.284799  ...  2073  2072  2072  2072  2051  2051   \n",
      "4               76    20.284799  ...  2021  2010  2010  2010  2001  2001   \n",
      "\n",
      "   2097  2098  2099  2100  \n",
      "0  1827  1827  1754  1754  \n",
      "1  1977  1997  1997  1997  \n",
      "2  1924  1924  1929  1929  \n",
      "3  2036  2036  2036  2045  \n",
      "4  2003  2003  2003  1989  \n",
      "\n",
      "[5 rows x 2114 columns]\n"
     ]
    }
   ],
   "source": [
    "# (4). url주소로 xlsx파일을 가져오는 방식!! \n",
    "import pandas as pd \n",
    "\n",
    "url = \"https://raw.githubusercontent.com/MyungKyuYi/AI-class/main/combined_dataset-1.xlsx\"\n",
    "df4 = pd.read_excel(url) # csv일땐 excel이 csv가 되어야함!!\n",
    "print(df4.head())"
   ]
  },
  {
   "cell_type": "markdown",
   "id": "606a0169-4041-487f-91eb-16a8185a7906",
   "metadata": {},
   "source": [
    "### 2. 📌 기본 정보 확인!"
   ]
  },
  {
   "cell_type": "code",
   "execution_count": 102,
   "id": "6634807f-40b7-4471-9c4c-c505185f03cf",
   "metadata": {
    "scrolled": true
   },
   "outputs": [
    {
     "name": "stdout",
     "output_type": "stream",
     "text": [
      "<class 'pandas.core.frame.DataFrame'>\n",
      "RangeIndex: 768 entries, 0 to 767\n",
      "Data columns (total 9 columns):\n",
      " #   Column                    Non-Null Count  Dtype  \n",
      "---  ------                    --------------  -----  \n",
      " 0   Pregnancies               768 non-null    int64  \n",
      " 1   Glucose                   768 non-null    int64  \n",
      " 2   BloodPressure             768 non-null    int64  \n",
      " 3   SkinThickness             768 non-null    int64  \n",
      " 4   Insulin                   768 non-null    int64  \n",
      " 5   BMI                       768 non-null    float64\n",
      " 6   DiabetesPedigreeFunction  768 non-null    float64\n",
      " 7   Age                       768 non-null    int64  \n",
      " 8   Outcome                   768 non-null    int64  \n",
      "dtypes: float64(2), int64(7)\n",
      "memory usage: 54.1 KB\n",
      "None\n",
      "       Pregnancies     Glucose  BloodPressure  SkinThickness     Insulin  \\\n",
      "count   768.000000  768.000000     768.000000     768.000000  768.000000   \n",
      "mean      3.845052  120.894531      69.105469      20.536458   79.799479   \n",
      "std       3.369578   31.972618      19.355807      15.952218  115.244002   \n",
      "min       0.000000    0.000000       0.000000       0.000000    0.000000   \n",
      "25%       1.000000   99.000000      62.000000       0.000000    0.000000   \n",
      "50%       3.000000  117.000000      72.000000      23.000000   30.500000   \n",
      "75%       6.000000  140.250000      80.000000      32.000000  127.250000   \n",
      "max      17.000000  199.000000     122.000000      99.000000  846.000000   \n",
      "\n",
      "              BMI  DiabetesPedigreeFunction         Age     Outcome  \n",
      "count  768.000000                768.000000  768.000000  768.000000  \n",
      "mean    31.992578                  0.471876   33.240885    0.348958  \n",
      "std      7.884160                  0.331329   11.760232    0.476951  \n",
      "min      0.000000                  0.078000   21.000000    0.000000  \n",
      "25%     27.300000                  0.243750   24.000000    0.000000  \n",
      "50%     32.000000                  0.372500   29.000000    0.000000  \n",
      "75%     36.600000                  0.626250   41.000000    1.000000  \n",
      "max     67.100000                  2.420000   81.000000    1.000000  \n"
     ]
    },
    {
     "data": {
      "text/plain": [
       "Index(['Pregnancies', 'Glucose', 'BloodPressure', 'SkinThickness', 'Insulin',\n",
       "       'BMI', 'DiabetesPedigreeFunction', 'Age', 'Outcome'],\n",
       "      dtype='object')"
      ]
     },
     "execution_count": 102,
     "metadata": {},
     "output_type": "execute_result"
    }
   ],
   "source": [
    "#### 기본 정보 확인 diabetes.csv\n",
    "print(df1.info())\n",
    "\n",
    "#### 컬럼별 결측치 확인 diabetes\n",
    "df1.isnull().sum()\n",
    "\n",
    "\n",
    "#### 기술 통계량 확인 diabetes \n",
    "print(df1.describe())\n",
    "\n",
    "## 컬럼명 확인\n",
    "df1.columns\n"
   ]
  },
  {
   "cell_type": "markdown",
   "id": "e90c4a2f-11f0-47af-8481-a8752bbd90b3",
   "metadata": {},
   "source": [
    "### 3. 데이터 전처리(결측치)  "
   ]
  },
  {
   "cell_type": "markdown",
   "id": "d3cb650b-2f6c-4196-adb3-6a56fd87a421",
   "metadata": {},
   "source": [
    "##### 📌 결측치 확인(누락된 값을 확인!!) \n",
    "##### print(\"결측치 개수:\")\n",
    "##### print(df.isnull().sum())\n",
    "##### df.isnull().sum(): 데이터프레임에서 결측치(누락된 값) 개수를 확인.\n",
    "##### Diabetes 데이터셋에는 결측치가 없지만, 일반적으로 확인하는 과정이 필요. 그래서 titanic에선 확인을 진행하였음 \n",
    "###### 분석의 정확성 향상을 위해 사용 + 데이터의 질을 개선 "
   ]
  },
  {
   "cell_type": "code",
   "execution_count": 105,
   "id": "d8983d29-abed-422c-8eef-e29cc1c02796",
   "metadata": {},
   "outputs": [],
   "source": [
    "# 결측치 제거 (Age는 평균 나이로 대체)\n",
    "# 2. 결측치 확인\n",
    "df1.isnull().sum()\n",
    "df1['Age'] = df1['Age'].fillna(df1['Age'].mean())"
   ]
  },
  {
   "cell_type": "code",
   "execution_count": 106,
   "id": "a0677428-4fec-4db5-9792-8971b0952d78",
   "metadata": {},
   "outputs": [],
   "source": [
    "#### 결측치 제거(기본)  \n",
    "# df = df.dropna()\n",
    "# df.isnull().sum()"
   ]
  },
  {
   "cell_type": "markdown",
   "id": "7236d374-b0f3-4c13-b5ed-6a80bc7fe7c0",
   "metadata": {},
   "source": [
    "### 4. 이상치 처리(IQR방식 사용) "
   ]
  },
  {
   "cell_type": "markdown",
   "id": "e0aa443f-b2a9-4081-9de2-cd4f90e3a13e",
   "metadata": {},
   "source": [
    "##### IQR(Interquartile Range)을 사용하여 이상치를 감지하고, 이상치 값을 중앙값(median)으로 대체.\n",
    "##### np.where()를 사용해서 이상치가 하한/상한 범위를 벗어나면 중앙값으로 변경.\n",
    "##### 📌 이상치 처리 대상 컬럼:\n",
    "##### Glucose (혈당), BloodPressure (혈압), SkinThickness (피부 두께), Insulin (인슐린), BMI (체질량지수)"
   ]
  },
  {
   "cell_type": "code",
   "execution_count": 152,
   "id": "7e37440b-520b-4e27-ba7c-5b364ca3f785",
   "metadata": {},
   "outputs": [],
   "source": [
    "# 4. 이상치 처리 (IQR 방법)\n",
    "# IQR: 사분위수 범위를 이용해 이상치를 탐지하고 제거\n",
    "# 이상치는 데이터의 분포에서 극단적으로 크거나 작은 값을 의미하며, 모델의 학습에 부정적인 영향을 줄 수 있기 때문에 제거하거나 조정함\n",
    "def remove_outliers(df1, column):\n",
    "    Q1 = df1[column].quantile(0.25)  # 1사분위수 (Q1)\n",
    "    Q3 = df1[column].quantile(0.75)  # 3사분위수 (Q3)\n",
    "    IQR = Q3 - Q1  # 사분위 범위 (IQR)\n",
    "    lower_bound = Q1 - 1.5 * IQR  # 이상치 하한\n",
    "    upper_bound = Q3 + 1.5 * IQR  # 이상치 상한\n",
    "    df1[column] = np.where((df1[column] < lower_bound) | (df1[column] > upper_bound), df1[column].median(), df1[column])  "
   ]
  },
  {
   "cell_type": "code",
   "execution_count": 154,
   "id": "212e2591-7dcb-47cd-bbee-f977405c2383",
   "metadata": {},
   "outputs": [],
   "source": [
    "\n",
    "for col in ['Glucose', 'BloodPressure', 'SkinThickness', 'Insulin', 'BMI']:\n",
    "    remove_outliers(df1, col)\n",
    "#위 컬럼들을 remove_outliers() 함수에 적용하여 이상치 제거. "
   ]
  },
  {
   "cell_type": "markdown",
   "id": "23a4b57e-f20b-423b-b9f1-909e0e25932d",
   "metadata": {},
   "source": [
    "### 5. 레이블 확인 (imbalanced data 여부 체크)\n",
    "##### 📌  Outcome 컬럼이 0(비당뇨)와 1(당뇨)로 얼마나 분포되어 있는지 확인.\n",
    "##### 데이터가 너무 불균형하면(한쪽 클래스가 너무 많으면) 모델 학습이 편향될 수 있음."
   ]
  },
  {
   "cell_type": "code",
   "execution_count": 157,
   "id": "4ea59856-24c0-48a2-a82e-612cb7bca80f",
   "metadata": {},
   "outputs": [
    {
     "name": "stdout",
     "output_type": "stream",
     "text": [
      "클래스 분포:\n",
      "Outcome\n",
      "0    500\n",
      "1    268\n",
      "Name: count, dtype: int64\n"
     ]
    }
   ],
   "source": [
    "print(\"클래스 분포:\")\n",
    "print(df1['Outcome'].value_counts()) # 0(비당뇨) 가 500개, 1(당뇨)이 268개로 약간의 불균형이 있음."
   ]
  },
  {
   "cell_type": "markdown",
   "id": "024defe6-f16e-41ef-b39b-a7d65f214702",
   "metadata": {},
   "source": [
    "##### 📌 Name은 이 시리즈 객체가 Outcome이라는 열에서 나온 값들임을 나타냄\n",
    "##### dtype은 int64타입이고 \n",
    "##### count는 이 출력 결과를 의미하는 것이 아니라 \"Name\" 뒤에 있는 Outcome 열이 가지고 있는 레벨(범주) 에 대한 설명 "
   ]
  },
  {
   "cell_type": "markdown",
   "id": "5020ef73-2e28-4358-88d3-1f008f26689d",
   "metadata": {},
   "source": [
    "### 6. 데이터 분리 (X,y) 나누기\n",
    "##### 데이터를 나누는 이유는 훈련(train) 데이터로 모델을 학습시키고, 테스트(TEST) 데이터로 모델을 평가하여 과적합을 방지하고 일반화 성능을 높이기 위해서! \n",
    "##### 여기서 X는 모델의 입력 데이터(특성들), y는 목표 값(타겟 변수) 입니다. \n"
   ]
  },
  {
   "cell_type": "markdown",
   "id": "8e993c5e-3a9d-405f-96b7-edacf1ace761",
   "metadata": {},
   "source": [
    "##### 📌train_test_split() 함수는 주어진 데이터를 훈련 데이터와 테스트 데이터로 나누는 함수! -> sklearn.model_selection 라이브러리가 제공!! \n",
    "##### X: 특성(입력 데이터). 예를 들어, 주택 가격 예측 문제라면 X는 집의 면적, 층수, 방 개수와 같은 정보들이 포함된 데이터입니다.\n",
    "##### y: 타겟(목표 값). 예를 들어, 주택 가격 예측 문제라면 y는 각 집의 가격입니다.\n",
    "##### test_size = 0.2 이면 20% 를 테스트 데이터로 사용하고 나머지 80%는 훈련 데이터로 사용하겠다는 뜻! 예를 들면 1000개 기준이면 200개는 테스트, 800개는 훈련 이런 느낌 ! \n",
    "##### random_state =42 는 랜덤 시드 값을 설정하는건데, 이 값을 설정하면 동일한 데이터를 나누더라도 항상 같은 결과를 얻을 수 있다. 숫자는 아무거나 설정해도 괜찮다. 오로지 데이터 분할을 일관성 있게 만들기 위한 값. \n",
    "##### 즉, random_state 값이 존재하지 않으면 train_data값이 항상 다르게 나온다. "
   ]
  },
  {
   "cell_type": "code",
   "execution_count": 176,
   "id": "a537343e-9836-4af5-aaea-7036ffacf312",
   "metadata": {},
   "outputs": [],
   "source": [
    "X = df1.drop(columns=['Outcome'])  # 독립변수 (입력값)\n",
    "y = df1['Outcome']  # 종속변수 (레이블)"
   ]
  },
  {
   "cell_type": "code",
   "execution_count": 178,
   "id": "af576324-8d21-4721-9a2d-2c5ae4041f7c",
   "metadata": {},
   "outputs": [],
   "source": [
    "X_train, X_test, y_train, y_test = train_test_split(X, y, test_size=0.2, random_state=42)"
   ]
  },
  {
   "cell_type": "markdown",
   "id": "0d58da62-6561-4170-85ce-fb53e9674824",
   "metadata": {},
   "source": [
    "### 7. 데이터 스케일링(표준화) \n",
    "##### StandardScaler(): 평균 0, 표준편차 1로 데이터를 변환하여 모델 학습 속도를 높이고 성능을 향상.\n",
    "##### 훈련 데이터(X_train)에 fit_transform() 적용.\n",
    "##### 테스트 데이터(X_test)는 transform()만 적용."
   ]
  },
  {
   "cell_type": "markdown",
   "id": "0038c136-08c3-4cdf-9761-0ae01bb0f8ac",
   "metadata": {},
   "source": [
    "#### 표준화는 데이터의 평균을 0, 표준편차를 1로 맞추는 방법이다. 하지만, 0을 중심으로 퍼지게 되며 값의 범위는 고정되지 않는다.\n",
    "##### 정규화는 표준화와는 다르게 데이터의 범위를 0과 1사이로 맞추는 방법!!! \n",
    "#### 밑에 처럼 표준화가 진행되면 범위가 저렇게 맞춰짐.\n",
    "#### 중요한 점은, 특성들이 서로 다른 범위르 가질 때 스케일을 맞추어 머신러닝 알고리즘이 각 특성을 동등하게 다룰수 있게 해준다는 것! "
   ]
  },
  {
   "cell_type": "code",
   "execution_count": 182,
   "id": "0eeaab80-fe41-46ed-93f9-2c9f21cb0695",
   "metadata": {},
   "outputs": [],
   "source": [
    "#from sklearn.preprocessing import StandardScaler\n",
    "##scaler = StandardScaler()\n",
    "#X_scaled = scaler.fit_transform(X)\n",
    "\n",
    "# X_scaled: [[-1.41421356, -1.41421356],\n",
    "#            [-0.70710678, -0.70710678],\n",
    "#            [ 0.        ,  0.        ],\n",
    "#            [ 0.70710678,  0.70710678],\n",
    "#            [ 1.41421356,  1.41421356]]"
   ]
  },
  {
   "cell_type": "code",
   "execution_count": 184,
   "id": "cc75d440-04a1-424f-b583-53e1bf51dfb1",
   "metadata": {},
   "outputs": [],
   "source": [
    "scaler = StandardScaler()\n",
    "X_train = scaler.fit_transform(X_train)\n",
    "X_test = scaler.transform(X_test)"
   ]
  },
  {
   "cell_type": "markdown",
   "id": "d072e7cd-7fcb-4e1d-a465-1173fa6cc48c",
   "metadata": {},
   "source": [
    "### 8. 모델 리스트 생성\n",
    "#### 사용할 5가지 분류 모델을 딕셔너리에 저장:\n",
    "##### Random Forest: 랜덤한 여러 개의 결정트리를 조합한 모델 (성능 좋음)\n",
    "##### Decision Tree: 데이터를 분할하여 예측하는 트리 구조 모델\n",
    "##### Logistic Regression: 확률 기반 선형 분류 모델\n",
    "##### KNN: 데이터와 가장 가까운 이웃을 찾는 거리 기반 모델\n",
    "##### SVM: 초평면을 찾아 데이터를 나누는 모델"
   ]
  },
  {
   "cell_type": "code",
   "execution_count": 187,
   "id": "3a737e75-1d5a-4ee3-a5e0-f2146174d61c",
   "metadata": {},
   "outputs": [],
   "source": [
    "models = {\n",
    "    \"Random Forest\": RandomForestClassifier(),\n",
    "    \"Decision Tree\": DecisionTreeClassifier(),\n",
    "    \"Logistic Regression\": LogisticRegression(),\n",
    "    \"KNN\": KNeighborsClassifier(),\n",
    "    \"SVM\": SVC()\n",
    "}"
   ]
  },
  {
   "cell_type": "markdown",
   "id": "f2e00f2c-2a2a-47e7-a8c7-cdce96b52584",
   "metadata": {},
   "source": [
    "### 9. 모델 학습 및 평가\n",
    "##### 혼동행렬을 사용하는 이유 : 모델의 성능을 평가하고, 예측 결과가 얼마나 정확한지 파악하기 위해서!\n",
    "##### model.fit(X_train, y_train): 모델 학습\n",
    "##### model.predict(X_test): 학습된 모델로 예측 수행\n",
    "##### confusion_matrix(y_test, y_pred): 예측과 실제값 비교를 위한 혼동 행렬 생성\n",
    "##### accuracy_score(y_test, y_pred): 모델 정확도 계산\n"
   ]
  },
  {
   "cell_type": "code",
   "execution_count": 190,
   "id": "587f110a-b2f9-4155-b982-55535676fce4",
   "metadata": {},
   "outputs": [],
   "source": [
    "for name, model in models.items():\n",
    "    model.fit(X_train, y_train)  # 모델 학습\n",
    "    y_pred = model.predict(X_test)  # 테스트 데이터 예측\n"
   ]
  },
  {
   "cell_type": "code",
   "execution_count": 191,
   "id": "8563822a-0211-40cb-95c5-9c8f452fa25f",
   "metadata": {},
   "outputs": [],
   "source": [
    "    acc = accuracy_score(y_test, y_pred)\n",
    "    cm = confusion_matrix(y_test, y_pred)\n"
   ]
  },
  {
   "cell_type": "code",
   "execution_count": 194,
   "id": "86338858-0d5c-4518-9c5f-540f04a1bc45",
   "metadata": {},
   "outputs": [
    {
     "name": "stdout",
     "output_type": "stream",
     "text": [
      "SVM 정확도: 0.7468\n",
      "SVM 혼동 행렬:\n",
      "[[82 17]\n",
      " [22 33]]\n",
      "\n"
     ]
    }
   ],
   "source": [
    "    print(f\"{name} 정확도: {acc:.4f}\")\n",
    "    print(f\"{name} 혼동 행렬:\\n{cm}\\n\")"
   ]
  },
  {
   "cell_type": "markdown",
   "id": "67f2dfef-031e-4aa5-a14c-8f9adcd3e662",
   "metadata": {},
   "source": [
    "### 10. 혼동 행렬 시각화\n",
    "##### sns.heatmap(): 혼동 행렬을 시각적으로 표현.\n",
    "##### annot=True: 숫자 표시.\n",
    "##### fmt='d': 정수 형식으로 출력.\n",
    "##### cmap='Greens': 초록색 계열 색상 사용."
   ]
  },
  {
   "cell_type": "markdown",
   "id": "0cf5f1a8-6ccb-49eb-a5a6-b62bc2ff3f11",
   "metadata": {},
   "source": [
    "#### 혼동 행렬 시각화 해석!\n",
    "##### 행 (predicted): 모델이 예측한 값 (0과 1)\n",
    "##### 열 (Actual): 실제 값 (0과 1)\n",
    "###### True Negative (TN): 실제 0인데, 모델이 0으로 예측한 경우\n",
    "###### 값: 82\n",
    "###### 의미: 모델이 실제로 0인 82개의 데이터를 정확히 0으로 예측했습니다.\n",
    "###### False Positive (FP): 실제 0인데, 모델이 1로 잘못 예측한 경우\n",
    "###### 값: 17\n",
    "###### 의미: 모델이 실제로 0인 17개의 데이터를 잘못 1로 예측했습니다.\n",
    "###### False Negative (FN): 실제 1인데, 모델이 0으로 잘못 예측한 경우\n",
    "###### 값: 22\n",
    "###### 의미: 모델이 실제로 1인 22개의 데이터를 잘못 0으로 예측했습니다.\n",
    "###### True Positive (TP): 실제 1인데, 모델이 1로 정확히 예측한 경우\n",
    "###### 값: 33\n",
    "###### 의미: 모델이 실제로 1인 33개의 데이터를 정확히 1로 예측했습니다."
   ]
  },
  {
   "cell_type": "code",
   "execution_count": 197,
   "id": "aa905140-5e71-4909-97e7-2a98bc9bcc4b",
   "metadata": {},
   "outputs": [
    {
     "data": {
      "image/png": "[encoded data removed]",
      "text/plain": [
       "<Figure size 640x480 with 2 Axes>"
      ]
     },
     "metadata": {},
     "output_type": "display_data"
    }
   ],
   "source": [
    "    sns.heatmap(cm, annot=True, fmt='d', cmap='Greens')\n",
    "    plt.title(f'{name} Confusion Matrix')\n",
    "    plt.xlabel('Predicted')\n",
    "    plt.ylabel('Actual')\n",
    "    plt.show()\n"
   ]
  },
  {
   "cell_type": "code",
   "execution_count": null,
   "id": "b70c4b72-a1db-4167-bf13-24fdc45db632",
   "metadata": {},
   "outputs": [],
   "source": []
  },
  {
   "cell_type": "code",
   "execution_count": null,
   "id": "8e496509-8772-4cc3-95ae-cd2faba94c04",
   "metadata": {},
   "outputs": [],
   "source": []
  }
 ],
 "metadata": {
  "kernelspec": {
   "display_name": "Python [conda env:base] *",
   "language": "python",
   "name": "conda-base-py"
  },
  "language_info": {
   "codemirror_mode": {
    "name": "ipython",
    "version": 3
   },
   "file_extension": ".py",
   "mimetype": "text/x-python",
   "name": "python",
   "nbconvert_exporter": "python",
   "pygments_lexer": "ipython3",
   "version": "3.12.7"
  }
 },
 "nbformat": 4,
 "nbformat_minor": 5
}
