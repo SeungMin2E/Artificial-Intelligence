{
 "cells": [
  {
   "cell_type": "markdown",
   "id": "505eed62-fbaf-4b6b-b0f2-33e9adacac4d",
   "metadata": {},
   "source": [
    "#**이걸 보고 이런식으로 처음부터 하면된다. 기초 틀 정리**\n",
    "## 1.데이터 받아오기 (diabetes.csv 기준 + combined_dataset.xlsx 기준 ) "
   ]
  },
  {
   "cell_type": "markdown",
   "id": "d7fbc98d-1df9-43a2-a117-e7b088c62ea6",
   "metadata": {},
   "source": [
    "#### (1). url을 그대로 가져오는 방식 "
   ]
  },
  {
   "cell_type": "code",
   "execution_count": 19,
   "id": "85d28179-70e5-415c-9371-b5977c5b0172",
   "metadata": {
    "scrolled": true
   },
   "outputs": [
    {
     "name": "stdout",
     "output_type": "stream",
     "text": [
      "   Pregnancies  Glucose  BloodPressure  SkinThickness  Insulin   BMI  \\\n",
      "0            6      148             72             35        0  33.6   \n",
      "1            1       85             66             29        0  26.6   \n",
      "2            8      183             64              0        0  23.3   \n",
      "3            1       89             66             23       94  28.1   \n",
      "4            0      137             40             35      168  43.1   \n",
      "\n",
      "   DiabetesPedigreeFunction  Age  Outcome  \n",
      "0                     0.627   50        1  \n",
      "1                     0.351   31        0  \n",
      "2                     0.672   32        1  \n",
      "3                     0.167   21        0  \n",
      "4                     2.288   33        1  \n"
     ]
    }
   ],
   "source": [
    "# (1). url을 그대로 가져오는 방식 \n",
    "import pandas as pd\n",
    "\n",
    "url = \"https://raw.githubusercontent.com/MyungKyuYi/AI-class/main/diabetes.csv\"\n",
    "df= pd.read_csv(url)\n",
    "print(df.head())\n",
    "\n",
    "# 근데 이 방식으로 url 가져올때 오류 발생으로 인해 gpt 도움으로 raw 방식으로 url을 사용해서 가져옴 \n",
    "# 원인은 : 잘못된 URL 사용\n",
    "#https://github.com/... 형식의 URL은 HTML 페이지를 반환하므로, Pandas가 CSV로 읽지 못합니다.\n",
    "#CSV 원본 파일을 직접 다운로드할 수 있는 raw URL을 사용해야 합니다. \n",
    "# 위와 같은 이유로 raw 방식을 사용해야함."
   ]
  },
  {
   "cell_type": "markdown",
   "id": "9ee621eb-7627-414f-93b8-3b7ca2fb1333",
   "metadata": {},
   "source": [
    "#### (2). 내 컴퓨터에 csv 저장한거 가져오는 방식 !! "
   ]
  },
  {
   "cell_type": "code",
   "execution_count": 21,
   "id": "9d0f912d-d774-4f25-a9cb-a28944bebf72",
   "metadata": {},
   "outputs": [
    {
     "name": "stdout",
     "output_type": "stream",
     "text": [
      "   Pregnancies  Glucose  BloodPressure  SkinThickness  Insulin   BMI  \\\n",
      "0            6      148             72             35        0  33.6   \n",
      "1            1       85             66             29        0  26.6   \n",
      "2            8      183             64              0        0  23.3   \n",
      "3            1       89             66             23       94  28.1   \n",
      "4            0      137             40             35      168  43.1   \n",
      "\n",
      "   DiabetesPedigreeFunction  Age  Outcome  \n",
      "0                     0.627   50        1  \n",
      "1                     0.351   31        0  \n",
      "2                     0.672   32        1  \n",
      "3                     0.167   21        0  \n",
      "4                     2.288   33        1  \n"
     ]
    }
   ],
   "source": [
    "# (2). 내 컴퓨터에 csv 저장한거 가져오는 방식 !! \n",
    "import pandas as pd\n",
    "file_path = \"C:/Users/min22/Desktop/Artifical intelligence/diabetes.csv\"\n",
    "\n",
    "df = pd.read_csv(file_path)\n",
    "print(df.head())\n",
    "# 여기서 주의 해야할점은 내 폴더 안에 csv 파일 들어가있는거 주소 복사해서 넣을때 그대로 넣으면 오류뜨니까 /로 바꿔줘야함 !! \n"
   ]
  },
  {
   "cell_type": "markdown",
   "id": "f578406b-9fc1-40c2-9940-d536ef3f9fb4",
   "metadata": {},
   "source": [
    "#### (3). 내 컴퓨터에서 xlsx 파일 가져오는 방식!! "
   ]
  },
  {
   "cell_type": "code",
   "execution_count": 26,
   "id": "58503205-7cc1-42a6-a852-92fec581e5d1",
   "metadata": {},
   "outputs": [
    {
     "name": "stdout",
     "output_type": "stream",
     "text": [
      "   Num.  subject_ID Sex(M/F)  Age(year)  Height(cm)  Weight(kg)  \\\n",
      "0     1           2   Female         45         152          63   \n",
      "1     1           2   Female         45         152          63   \n",
      "2     1           2   Female         45         152          63   \n",
      "3     2           3   Female         50         157          50   \n",
      "4     2           3   Female         50         157          50   \n",
      "\n",
      "   Systolic Blood Pressure(mmHg)  Diastolic Blood Pressure(mmHg)  \\\n",
      "0                            161                              89   \n",
      "1                            161                              89   \n",
      "2                            161                              89   \n",
      "3                            160                              93   \n",
      "4                            160                              93   \n",
      "\n",
      "   Heart Rate(b/m)  BMI(kg/m^2)  ...  2091  2092  2093  2094  2095  2096  \\\n",
      "0               97    27.268006  ...  1766  1766  1766  1833  1833  1827   \n",
      "1               97    27.268006  ...  1985  1985  2026  2026  2026  1977   \n",
      "2               97    27.268006  ...  1942  1900  1900  1938  1938  1938   \n",
      "3               76    20.284799  ...  2073  2072  2072  2072  2051  2051   \n",
      "4               76    20.284799  ...  2021  2010  2010  2010  2001  2001   \n",
      "\n",
      "   2097  2098  2099  2100  \n",
      "0  1827  1827  1754  1754  \n",
      "1  1977  1997  1997  1997  \n",
      "2  1924  1924  1929  1929  \n",
      "3  2036  2036  2036  2045  \n",
      "4  2003  2003  2003  1989  \n",
      "\n",
      "[5 rows x 2114 columns]\n"
     ]
    }
   ],
   "source": [
    "# (3). 내 컴퓨터에서 xlsx 파일 가져오는 방식!! \n",
    "import pandas as pd\n",
    "\n",
    "# 파일 경로 \n",
    "file_path = \"C:/Users/min22/Desktop/Artifical intelligence/combined_dataset-1.xlsx\"\n",
    "\n",
    "# 엑셀 파일 불러오기\n",
    "df = pd.read_excel(file_path)\n",
    "\n",
    "# 데이터 확인\n",
    "print(df.head())"
   ]
  },
  {
   "cell_type": "markdown",
   "id": "c127bd4c-ebe5-4351-b47f-82819279ced7",
   "metadata": {},
   "source": [
    "#### (4). url주소로 xlsx파일을 가져오는 방식!! "
   ]
  },
  {
   "cell_type": "code",
   "execution_count": 28,
   "id": "4265228b-e366-493a-920b-fafeaffff7cd",
   "metadata": {},
   "outputs": [
    {
     "name": "stdout",
     "output_type": "stream",
     "text": [
      "   Num.  subject_ID Sex(M/F)  Age(year)  Height(cm)  Weight(kg)  \\\n",
      "0     1           2   Female         45         152          63   \n",
      "1     1           2   Female         45         152          63   \n",
      "2     1           2   Female         45         152          63   \n",
      "3     2           3   Female         50         157          50   \n",
      "4     2           3   Female         50         157          50   \n",
      "\n",
      "   Systolic Blood Pressure(mmHg)  Diastolic Blood Pressure(mmHg)  \\\n",
      "0                            161                              89   \n",
      "1                            161                              89   \n",
      "2                            161                              89   \n",
      "3                            160                              93   \n",
      "4                            160                              93   \n",
      "\n",
      "   Heart Rate(b/m)  BMI(kg/m^2)  ...  2091  2092  2093  2094  2095  2096  \\\n",
      "0               97    27.268006  ...  1766  1766  1766  1833  1833  1827   \n",
      "1               97    27.268006  ...  1985  1985  2026  2026  2026  1977   \n",
      "2               97    27.268006  ...  1942  1900  1900  1938  1938  1938   \n",
      "3               76    20.284799  ...  2073  2072  2072  2072  2051  2051   \n",
      "4               76    20.284799  ...  2021  2010  2010  2010  2001  2001   \n",
      "\n",
      "   2097  2098  2099  2100  \n",
      "0  1827  1827  1754  1754  \n",
      "1  1977  1997  1997  1997  \n",
      "2  1924  1924  1929  1929  \n",
      "3  2036  2036  2036  2045  \n",
      "4  2003  2003  2003  1989  \n",
      "\n",
      "[5 rows x 2114 columns]\n"
     ]
    }
   ],
   "source": [
    "# (4). url주소로 xlsx파일을 가져오는 방식!! \n",
    "import pandas as pd \n",
    "\n",
    "url = \"https://raw.githubusercontent.com/MyungKyuYi/AI-class/main/combined_dataset-1.xlsx\"\n",
    "df = pd.read_excel(url) # csv일땐 excel이 csv가 되어야함!!\n",
    "print(df.head())"
   ]
  },
  {
   "cell_type": "code",
   "execution_count": null,
   "id": "6634807f-40b7-4471-9c4c-c505185f03cf",
   "metadata": {},
   "outputs": [],
   "source": [
    "## 2. 결측지 확인 하는 방법! \n"
   ]
  },
  {
   "cell_type": "code",
   "execution_count": null,
   "id": "edcfa3fd-b3c3-4c55-9535-544f95ab4a87",
   "metadata": {},
   "outputs": [],
   "source": [
    "## 2. 5가지 분류 (RF,DT,LR,KNN,SVM)"
   ]
  },
  {
   "cell_type": "code",
   "execution_count": null,
   "id": "a0677428-4fec-4db5-9792-8971b0952d78",
   "metadata": {},
   "outputs": [],
   "source": []
  },
  {
   "cell_type": "code",
   "execution_count": null,
   "id": "c834a240-1c0c-4c91-bc40-0bfda25ba6c2",
   "metadata": {},
   "outputs": [],
   "source": []
  }
 ],
 "metadata": {
  "kernelspec": {
   "display_name": "Python [conda env:base] *",
   "language": "python",
   "name": "conda-base-py"
  },
  "language_info": {
   "codemirror_mode": {
    "name": "ipython",
    "version": 3
   },
   "file_extension": ".py",
   "mimetype": "text/x-python",
   "name": "python",
   "nbconvert_exporter": "python",
   "pygments_lexer": "ipython3",
   "version": "3.12.7"
  }
 },
 "nbformat": 4,
 "nbformat_minor": 5
}
