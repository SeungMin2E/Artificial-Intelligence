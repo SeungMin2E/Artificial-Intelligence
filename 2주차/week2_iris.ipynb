{
 "cells": [
  {
   "cell_type": "markdown",
   "id": "89608cdb-be4d-450e-883f-7bd3df8d6462",
   "metadata": {},
   "source": [
    "## 추가 내용! \n",
    "### 인코딩 관련! \n",
    "#### 1. 왜 NAME 칼럼을 인코딩을 했는가? \n",
    "#### 그 이유는 머신러닝 모델에서 목표 변수, 즉 예측하려는 값을 숫자로 변환해야하기 때문! \n",
    "#### iris.csv columns를 보면 Index(['SepalLength', 'SepalWidth', 'PetalLength', 'PetalWidth', 'Name']) 이거인데 여기서 SepalLength, SepalWidth, PetalLength, PetalWidth → 꽃잎과 꽃받침의 길이/너비 (숫자형 데이터, 인코딩 불필요)\n",
    "#### Name → 꽃의 품종 (setosa, versicolor, virginica → 범주형 데이터, 숫자로 변환 필요!)\n",
    "#### 👉 즉, Name 컬럼이 클래스(Label) 역할을 하므로, 분류 모델을 학습시키기 위해 숫자로 변환(Label Encoding) 한 것입니다.\n"
   ]
  },
  {
   "cell_type": "markdown",
   "id": "c8ef30f8-457d-4d84-a923-2898176de301",
   "metadata": {},
   "source": [
    "##### 2️⃣ 원-핫 인코딩(One-Hot Encoding)은 언제 사용할까?\n",
    "##### ✅ 범주형 데이터가 숫자의 크기와 관계없는 경우 사용!\n",
    "\n",
    "##### 💡 원-핫 인코딩이 필요한 경우\n",
    "##### 서로 다른 범주 간 크기 비교가 의미 없을 때\n",
    "\n",
    "##### 예: 'Red', 'Blue', 'Green' (색상은 크기 비교가 불가능)\n",
    "##### Label Encoding → 'Red' = 0, 'Blue' = 1, 'Green' = 2\n",
    "##### 이렇게 하면 Green > Blue > Red 처럼 순위 관계가 생겨버림 → 원-핫 인코딩 필요!\n",
    "\n",
    "#### 🌟 결론: Iris 데이터에서는 Label Encoding이 적절!\n",
    "#### Name(꽃의 품종)이 범주형 데이터라서 숫자로 변환해야 함\n",
    "#### setosa, versicolor, virginica는 3개뿐이므로 Label Encoding이 효율적\n",
    "#### 범주 간 순위(서열 관계)가 없지만, 트리 기반 모델도 사용할 거라 Label Encoding이 문제되지 않음\n",
    "#### 👉 하지만 SVM이나 로지스틱 회귀를 단독으로 사용한다면 원-핫 인코딩이 더 적절할 수도 있음!\n",
    "#### ✔️ 데이터와 모델에 따라 다르게 선택하면 된다! 😊\n",
    "\n",
    "### 그리고 범주형 데이터는 문자열을 의미 ! "
   ]
  },
  {
   "cell_type": "code",
   "execution_count": 9,
   "id": "3098a4b9-aaf6-4a90-9bdd-2ff80850c20c",
   "metadata": {},
   "outputs": [
    {
     "name": "stdout",
     "output_type": "stream",
     "text": [
      "Missing values:\n",
      " SepalLength    0\n",
      "SepalWidth     0\n",
      "PetalLength    0\n",
      "PetalWidth     0\n",
      "Name           0\n",
      "dtype: int64\n",
      "Label distribution before encoding:\n",
      " Name\n",
      "Iris-setosa        50\n",
      "Iris-versicolor    50\n",
      "Iris-virginica     50\n",
      "Name: count, dtype: int64\n",
      "Label distribution after encoding:\n",
      " Name\n",
      "0    50\n",
      "1    50\n",
      "2    50\n",
      "Name: count, dtype: int64\n",
      "Random Forest Accuracy: 1.0000\n",
      "Random Forest Confusion Matrix:\n",
      "[[10  0  0]\n",
      " [ 0  9  0]\n",
      " [ 0  0 11]]\n",
      "\n",
      "Decision Tree Accuracy: 1.0000\n",
      "Decision Tree Confusion Matrix:\n",
      "[[10  0  0]\n",
      " [ 0  9  0]\n",
      " [ 0  0 11]]\n",
      "\n",
      "Logistic Regression Accuracy: 1.0000\n",
      "Logistic Regression Confusion Matrix:\n",
      "[[10  0  0]\n",
      " [ 0  9  0]\n",
      " [ 0  0 11]]\n",
      "\n",
      "KNN Accuracy: 1.0000\n",
      "KNN Confusion Matrix:\n",
      "[[10  0  0]\n",
      " [ 0  9  0]\n",
      " [ 0  0 11]]\n",
      "\n",
      "SVM Accuracy: 1.0000\n",
      "SVM Confusion Matrix:\n",
      "[[10  0  0]\n",
      " [ 0  9  0]\n",
      " [ 0  0 11]]\n",
      "\n"
     ]
    },
    {
     "data": {
      "image/png": "[encoded data removed]",
      "text/plain": [
       "<Figure size 1000x500 with 1 Axes>"
      ]
     },
     "metadata": {},
     "output_type": "display_data"
    }
   ],
   "source": [
    "import pandas as pd\n",
    "import numpy as np\n",
    "import seaborn as sns\n",
    "import matplotlib.pyplot as plt\n",
    "from sklearn.model_selection import train_test_split\n",
    "from sklearn.preprocessing import LabelEncoder\n",
    "from sklearn.ensemble import RandomForestClassifier\n",
    "from sklearn.tree import DecisionTreeClassifier\n",
    "from sklearn.linear_model import LogisticRegression\n",
    "from sklearn.neighbors import KNeighborsClassifier\n",
    "from sklearn.svm import SVC\n",
    "from sklearn.metrics import accuracy_score, confusion_matrix\n",
    "\n",
    "# 1. 데이터 로딩\n",
    "file_path = \"C:/Users/min22/Desktop/Artifical intelligence/iris.csv\"\n",
    "df = pd.read_csv(file_path)\n",
    "\n",
    "# 2. 결측치 확인\n",
    "print(\"Missing values:\\n\", df.isnull().sum())\n",
    "\n",
    "# 4. 레이블 확인 (Name 컬럼이 실제 레이블 컬럼)\n",
    "print(\"Label distribution before encoding:\\n\", df['Name'].value_counts())\n",
    "\n",
    "# 6. 엔코딩 (Name 컬럼을 숫자로 변환)\n",
    "le = LabelEncoder()\n",
    "df['Name'] = le.fit_transform(df['Name'])\n",
    "print(\"Label distribution after encoding:\\n\", df['Name'].value_counts())\n",
    "\n",
    "# 독립변수(X)와 종속변수(y) 분리\n",
    "X = df.drop(columns=['Name'])\n",
    "y = df['Name']\n",
    "\n",
    "# 데이터 분할 (학습 80%, 테스트 20%)\n",
    "X_train, X_test, y_train, y_test = train_test_split(X, y, test_size=0.2, random_state=42)\n",
    "\n",
    "# 분류 모델 리스트\n",
    "models = {\n",
    "    'Random Forest': RandomForestClassifier(),\n",
    "    'Decision Tree': DecisionTreeClassifier(),\n",
    "    'Logistic Regression': LogisticRegression(max_iter=200),\n",
    "    'KNN': KNeighborsClassifier(),\n",
    "    'SVM': SVC()\n",
    "}\n",
    "\n",
    "# 모델 학습 및 평가\n",
    "results = {}\n",
    "for name, model in models.items():\n",
    "    model.fit(X_train, y_train)\n",
    "    y_pred = model.predict(X_test)\n",
    "    acc = accuracy_score(y_test, y_pred)\n",
    "    cm = confusion_matrix(y_test, y_pred)\n",
    "    results[name] = {'accuracy': acc, 'confusion_matrix': cm}\n",
    "    \n",
    "    print(f\"{name} Accuracy: {acc:.4f}\")\n",
    "    print(f\"{name} Confusion Matrix:\\n{cm}\\n\")\n",
    "\n",
    "# 결과 시각화\n",
    "plt.figure(figsize=(10, 5))\n",
    "accuracies = [results[model]['accuracy'] for model in models]\n",
    "plt.bar(models.keys(), accuracies, color=['blue', 'green', 'red', 'purple', 'orange'])\n",
    "plt.xlabel(\"Model\")\n",
    "plt.ylabel(\"Accuracy\")\n",
    "plt.title(\"Model Accuracy Comparison\")\n",
    "plt.ylim(0, 1)\n",
    "plt.show()"
   ]
  },
  {
   "cell_type": "code",
   "execution_count": 5,
   "id": "911b509f-e486-4a43-8d05-c1c8944cebf9",
   "metadata": {},
   "outputs": [
    {
     "name": "stdout",
     "output_type": "stream",
     "text": [
      "Index(['SepalLength', 'SepalWidth', 'PetalLength', 'PetalWidth', 'Name'], dtype='object')\n"
     ]
    }
   ],
   "source": [
    "print(df_iris.columns)\n"
   ]
  },
  {
   "cell_type": "code",
   "execution_count": null,
   "id": "e3df9621-2b8a-42c4-a6db-c54576b79b2d",
   "metadata": {},
   "outputs": [],
   "source": []
  }
 ],
 "metadata": {
  "kernelspec": {
   "display_name": "Python [conda env:base] *",
   "language": "python",
   "name": "conda-base-py"
  },
  "language_info": {
   "codemirror_mode": {
    "name": "ipython",
    "version": 3
   },
   "file_extension": ".py",
   "mimetype": "text/x-python",
   "name": "python",
   "nbconvert_exporter": "python",
   "pygments_lexer": "ipython3",
   "version": "3.12.7"
  }
 },
 "nbformat": 4,
 "nbformat_minor": 5
}
