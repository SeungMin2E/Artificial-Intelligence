{
 "cells": [
  {
   "cell_type": "markdown",
   "id": "5b276824-2497-4130-aec0-aff7c4a75a1b",
   "metadata": {},
   "source": [
    "##**1주차 리포트**"
   ]
  },
  {
   "cell_type": "markdown",
   "id": "fa43c2a0-41b4-478b-9eac-1a2ad2ec350e",
   "metadata": {},
   "source": [
    "####iris.scv 파일의 저장경로를 확인한 후에 DT, RF, SVM, LR 분류를 각각 수행!"
   ]
  },
  {
   "cell_type": "code",
   "execution_count": 10,
   "id": "9a5a0393-e604-4452-8f89-46964227972a",
   "metadata": {},
   "outputs": [
    {
     "name": "stdout",
     "output_type": "stream",
     "text": [
      "   SepalLength  SepalWidth  PetalLength  PetalWidth         Name\n",
      "0          5.1         3.5          1.4         0.2  Iris-setosa\n",
      "1          4.9         3.0          1.4         0.2  Iris-setosa\n",
      "2          4.7         3.2          1.3         0.2  Iris-setosa\n",
      "3          4.6         3.1          1.5         0.2  Iris-setosa\n",
      "4          5.0         3.6          1.4         0.2  Iris-setosa\n"
     ]
    }
   ],
   "source": [
    "file_path = \"C:/Users/min22/Desktop/Artifical intelligence/iris.csv\" \n",
    "\n",
    "import pandas as pd\n",
    "df = pd.read_csv(file_path)\n",
    "print(df.head())\n"
   ]
  },
  {
   "cell_type": "code",
   "execution_count": 12,
   "id": "63c66a27-e46e-4c48-9870-50322d059a6d",
   "metadata": {},
   "outputs": [
    {
     "name": "stdout",
     "output_type": "stream",
     "text": [
      "학습 데이터 개수: 120\n",
      "테스트 데이터 개수: 30\n"
     ]
    }
   ],
   "source": [
    "from sklearn.model_selection import train_test_split\n",
    "from sklearn.preprocessing import LabelEncoder\n",
    "\n",
    "X = df.drop(columns=['Name']) \n",
    "y = df['Name']  \n",
    "\n",
    "encoder = LabelEncoder()\n",
    "y = encoder.fit_transform(y) \n",
    "\n",
    "X_train, X_test, y_train, y_test = train_test_split(X, y, test_size=0.2, random_state=42)\n",
    "\n",
    "print(\"학습 데이터 개수:\", len(X_train))\n",
    "print(\"테스트 데이터 개수:\", len(X_test))"
   ]
  },
  {
   "cell_type": "code",
   "execution_count": 14,
   "id": "cb5e5c39-b0dd-4832-b749-359ac84a72c4",
   "metadata": {},
   "outputs": [
    {
     "name": "stdout",
     "output_type": "stream",
     "text": [
      "결정트리 정확도: 1.0000\n"
     ]
    }
   ],
   "source": [
    "from sklearn.tree import DecisionTreeClassifier\n",
    "from sklearn.metrics import accuracy_score\n",
    "\n",
    "# 모델 생성 및 학습\n",
    "dt_model = DecisionTreeClassifier(random_state=42)\n",
    "dt_model.fit(X_train, y_train)\n",
    "\n",
    "# 예측 및 평가\n",
    "y_pred_dt = dt_model.predict(X_test)\n",
    "accuracy_dt = accuracy_score(y_test, y_pred_dt)\n",
    "print(f\"결정트리 정확도: {accuracy_dt:.4f}\")"
   ]
  },
  {
   "cell_type": "code",
   "execution_count": 16,
   "id": "964d68d2-fdda-4a9c-8f86-ab93eec9d321",
   "metadata": {},
   "outputs": [
    {
     "name": "stdout",
     "output_type": "stream",
     "text": [
      "랜덤 포레스트 정확도: 1.0000\n"
     ]
    }
   ],
   "source": [
    "from sklearn.ensemble import RandomForestClassifier\n",
    "\n",
    "# 모델 생성 및 학습\n",
    "rf_model = RandomForestClassifier(n_estimators=100, random_state=42)\n",
    "rf_model.fit(X_train, y_train)\n",
    "\n",
    "# 예측 및 평가\n",
    "y_pred_rf = rf_model.predict(X_test)\n",
    "accuracy_rf = accuracy_score(y_test, y_pred_rf)\n",
    "print(f\"랜덤 포레스트 정확도: {accuracy_rf:.4f}\")\n"
   ]
  },
  {
   "cell_type": "code",
   "execution_count": 18,
   "id": "700028ef-c9f0-4b61-9e4b-6d6f19991a11",
   "metadata": {},
   "outputs": [
    {
     "name": "stdout",
     "output_type": "stream",
     "text": [
      "SVM 정확도: 1.0000\n"
     ]
    }
   ],
   "source": [
    "from sklearn.svm import SVC\n",
    "\n",
    "# 모델 생성 및 학습\n",
    "svm_model = SVC(kernel='linear', random_state=42)\n",
    "svm_model.fit(X_train, y_train)\n",
    "\n",
    "# 예측 및 평가\n",
    "y_pred_svm = svm_model.predict(X_test)\n",
    "accuracy_svm = accuracy_score(y_test, y_pred_svm)\n",
    "print(f\"SVM 정확도: {accuracy_svm:.4f}\")\n"
   ]
  },
  {
   "cell_type": "code",
   "execution_count": 20,
   "id": "61db77f9-d43b-48d1-a24a-d07ed0b86f8f",
   "metadata": {},
   "outputs": [
    {
     "name": "stdout",
     "output_type": "stream",
     "text": [
      "로지스틱 회귀 정확도: 1.0000\n"
     ]
    }
   ],
   "source": [
    "from sklearn.linear_model import LogisticRegression\n",
    "\n",
    "# 모델 생성 및 학습\n",
    "lr_model = LogisticRegression(max_iter=200)\n",
    "lr_model.fit(X_train, y_train)\n",
    "\n",
    "# 예측 및 평가\n",
    "y_pred_lr = lr_model.predict(X_test)\n",
    "accuracy_lr = accuracy_score(y_test, y_pred_lr)\n",
    "print(f\"로지스틱 회귀 정확도: {accuracy_lr:.4f}\")\n"
   ]
  },
  {
   "cell_type": "code",
   "execution_count": 45,
   "id": "20c0239d-956d-47f9-895d-53955ceb7f2b",
   "metadata": {},
   "outputs": [],
   "source": [
    "\n",
    "from sklearn.metrics import accuracy_score\n",
    "cv_score_dt = cross_val_score(DecisionTreeClassifier(), X, y, cv=5).mean()\n",
    "cv_score_rf = cross_val_score(RandomForestClassifier(), X, y, cv=5).mean()\n",
    "cv_score_svm = cross_val_score(SVC(kernel='linear'), X, y, cv=5).mean()\n",
    "cv_score_lr = cross_val_score(LogisticRegression(max_iter=200), X, y, cv=5).mean()"
   ]
  },
  {
   "cell_type": "code",
   "execution_count": 47,
   "id": "3e7e4358-ba81-4b2a-9847-396f3148fd07",
   "metadata": {},
   "outputs": [
    {
     "name": "stdout",
     "output_type": "stream",
     "text": [
      "\n",
      "=== 교차 검증 결과 ===\n",
      "결정트리 교차 검증 정확도: 0.9600\n",
      "랜덤 포레스트 교차 검증 정확도: 0.9600\n",
      "SVM 교차 검증 정확도: 0.9800\n",
      "로지스틱 회귀 교차 검증 정확도: 0.9733\n"
     ]
    }
   ],
   "source": [
    "print(\"\\n=== 교차 검증 결과 ===\")\n",
    "print(f\"결정트리 교차 검증 정확도: {cv_score_dt:.4f}\")\n",
    "print(f\"랜덤 포레스트 교차 검증 정확도: {cv_score_rf:.4f}\")\n",
    "print(f\"SVM 교차 검증 정확도: {cv_score_svm:.4f}\")\n",
    "print(f\"로지스틱 회귀 교차 검증 정확도: {cv_score_lr:.4f}\")\n"
   ]
  },
  {
   "cell_type": "code",
   "execution_count": null,
   "id": "2df6a640-686b-45f1-93ac-7065c6ac852a",
   "metadata": {},
   "outputs": [],
   "source": []
  }
 ],
 "metadata": {
  "kernelspec": {
   "display_name": "Python [conda env:base] *",
   "language": "python",
   "name": "conda-base-py"
  },
  "language_info": {
   "codemirror_mode": {
    "name": "ipython",
    "version": 3
   },
   "file_extension": ".py",
   "mimetype": "text/x-python",
   "name": "python",
   "nbconvert_exporter": "python",
   "pygments_lexer": "ipython3",
   "version": "3.12.7"
  }
 },
 "nbformat": 4,
 "nbformat_minor": 5
}
