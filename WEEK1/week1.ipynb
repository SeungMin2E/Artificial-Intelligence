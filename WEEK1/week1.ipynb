{
 "cells": [
  {
   "cell_type": "markdown",
   "id": "5b276824-2497-4130-aec0-aff7c4a75a1b",
   "metadata": {},
   "source": [
    "**1주차 리포트**"
   ]
  },
  {
   "cell_type": "markdown",
   "id": "fa43c2a0-41b4-478b-9eac-1a2ad2ec350e",
   "metadata": {},
   "source": [
    "##iris.scv 파일의 저장경로를 확인한 후에 DT, RF, SVM, LR 분류를 각각 수행!"
   ]
  },
  {
   "cell_type": "code",
   "execution_count": null,
   "id": "95c8d69b-c970-4803-9a03-52cf204940d4",
   "metadata": {},
   "outputs": [],
   "source": [
    "import pandas as pd\n",
    "from sklearn.model_selection import train_test_split\n",
    "from sklearn.preprocessing import LabelEncoder\n",
    "from sklearn.tree import DecisionTreeClassifier\n",
    "from sklearn.ensemble import RandomForestClassifier\n",
    "from sklearn.svm import SVC\n",
    "from sklearn.linear_model import LogisticRegression\n",
    "from sklearn.metrics import accuracy_score"
   ]
  },
  {
   "cell_type": "code",
   "execution_count": 7,
   "id": "894de6d8-76bd-4b7a-9741-4e155cf594d6",
   "metadata": {},
   "outputs": [
    {
     "ename": "SyntaxError",
     "evalue": "(unicode error) 'unicodeescape' codec can't decode bytes in position 2-3: truncated \\UXXXXXXXX escape (2218457806.py, line 1)",
     "output_type": "error",
     "traceback": [
      "\u001b[1;36m  Cell \u001b[1;32mIn[7], line 1\u001b[1;36m\u001b[0m\n\u001b[1;33m    file_path = \"C:\\Users\\min22\\Desktop\\Artifical intelligence/iris.csv\"\u001b[0m\n\u001b[1;37m                ^\u001b[0m\n\u001b[1;31mSyntaxError\u001b[0m\u001b[1;31m:\u001b[0m (unicode error) 'unicodeescape' codec can't decode bytes in position 2-3: truncated \\UXXXXXXXX escape\n"
     ]
    }
   ],
   "source": [
    "file_path = \"C:\\Users\\min22\\Desktop\\Artifical intelligence/iris.csv\"\n",
    "df = pd.read_csv(file_path)\n",
    "df.head()"
   ]
  },
  {
   "cell_type": "code",
   "execution_count": 11,
   "id": "5f0e64d3-49f8-4eb9-ac08-176a907faa1e",
   "metadata": {},
   "outputs": [],
 "출처": [
 "file_path = r\\C:\\사용자\\min22\"데스크톱\\\\인공지능\\iris.csv\\n",
 "df = pd.read_csv(파일_경로)"
 ]
 },
 {
 "cell_type": "code",
 "execution_count": 13,
 "id": "6716a286-0fd3-4324-93ea-4ec6fe7ac3fe",
 "metadata": {},
 "outputs": [
 {
 "데이터": {
 "텍스트/html": [
 "<div>\n",
 "<스타일 스코프>\n",
 " .dataframe tbody trth: 타입만 {\\n}",
 " 세로 align: 중간;\n",
 " }\n",
 "\n",
 " .dataframe tbody trth {\\n",
 " 수직 align: 상단;\n",
 " }\n",
 "\n",
 " .dataframe 광고 {\\n",
       "        text-align: right;\n",
       "    }\n",
       "</style>\n",
       "<table border=\"1\" class=\"dataframe\">\n",
       "  <thead>\n",
       "    <tr style=\"text-align: right;\">\n",
       "      <th></th>\n",
       "      <th>SepalLength</th>\n",
       "      <th>SepalWidth</th>\n",
       "      <th>PetalLength</th>\n",
       "      <th>PetalWidth</th>\n",
       "      <th>Name</th>\n",
       "    </tr>\n",
       "  </thead>\n",
       "  <tbody>\n",
       "    <tr>\n",
       "      <th>0</th>\n",
       "      <td>5.1</td>\n",
       "      <td>3.5</td>\n",
       "      <td>1.4</td>\n",
       "      <td>0.2</td>\n",
       "      <td>Iris-setosa</td>\n",
       "    </tr>\n",
       "    <tr>\n",
       "      <th>1</th>\n",
       "      <td>4.9</td>\n",
       "      <td>3.0</td>\n",
       "      <td>1.4</td>\n",
       "      <td>0.2</td>\n",
       "      <td>Iris-setosa</td>\n",
       "    </tr>\n",
       "    <tr>\n",
       "      <th>2</th>\n",
       "      <td>4.7</td>\n",
       "      <td>3.2</td>\n",
       "      <td>1.3</td>\n",
       "      <td>0.2</td>\n",
       "      <td>Iris-setosa</td>\n",
       "    </tr>\n",
       "    <tr>\n",
       "      <th>3</th>\n",
       "      <td>4.6</td>\n",
       "      <td>3.1</td>\n",
       "      <td>1.5</td>\n",
       "      <td>0.2</td>\n",
       "      <td>Iris-setosa</td>\n",
       "    </tr>\n",
       "    <tr>\n",
       "      <th>4</th>\n",
       "      <td>5.0</td>\n",
       "      <td>3.6</td>\n",
       "      <td>1.4</td>\n",
       "      <td>0.2</td>\n",
       "      <td>Iris-setosa</td>\n",
       "    </tr>\n",
       "  </tbody>\n",
       "</table>\n",
       "</div>"
      ],
      "text/plain": [
       "   SepalLength  SepalWidth  PetalLength  PetalWidth         Name\n",
       "0          5.1         3.5          1.4         0.2  Iris-setosa\n",
       "1          4.9         3.0          1.4         0.2  Iris-setosa\n",
       "2          4.7         3.2          1.3         0.2  Iris-setosa\n",
       "3          4.6         3.1          1.5         0.2  Iris-setosa\n",
       "4          5.0         3.6          1.4         0.2  Iris-setosa"
      ]
     },
     "execution_count": 13,
     "metadata": {},
     "output_type": "execute_result"
    }
   ],
   "source": [
    "df.head()\n"
   ]
  },
  {
   "cell_type": "code",
   "execution_count": 24,
   "id": "4d4c3e7b-a1fd-4bf8-bf04-ac5df813fb17",
   "metadata": {},
   "outputs": [],
   "source": [
    "if df.shape[1] > 1:\n",
    "    X = df.iloc[:, :-1]  # 마지막 열 제외 (특성)\n",
    "    y = df.iloc[:, -1]   # 마지막 열 (라벨)\n",
    "else:\n",
    "    raise ValueError(\"데이터셋에 충분한 컬럼이 없습니다. CSV 파일을 확인하세요.\")"
   ]
  },
  {
   "cell_type": "code",
   "execution_count": 26,
   "id": "dbe7eac9-a618-4e5a-ae67-e8094c20e050",
   "metadata": {},
   "outputs": [],
   "source": [
    "le = LabelEncoder()\n",
    "y = le.fit_transform(y)"
   ]
  },
  {
   "cell_type": "code",
   "execution_count": 28,
   "id": "4ad4f765-78f5-4da9-93b2-b245d5b2c00c",
   "metadata": {},
   "outputs": [],
   "source": [
    "X_train, X_test, y_train, y_test = train_test_split(X, y, test_size=0.2, random_state=42)"
   ]
  },
  {
   "cell_type": "code",
   "execution_count": 30,
   "id": "a54e0ee1-44d1-4c0b-9753-b7d7f81ffa37",
   "metadata": {},
   "outputs": [],
   "source": [
    "def train_and_evaluate(model, name):\n",
    "    model.fit(X_train, y_train)\n",
    "    y_pred = model.predict(X_test)\n",
    "    accuracy = accuracy_score(y_test, y_pred)\n",
    "    print(f\"{name} 정확도: {accuracy:.4f}\")"
   ]
  },
  {
   "cell_type": "code",
   "execution_count": 32,
   "id": "d142bc56-ac7a-4dea-b1f7-35e57eb72ee2",
   "metadata": {},
   "outputs": [
    {
     "name": "stdout",
     "output_type": "stream",
     "text": [
      "Decision Tree 정확도: 1.0000\n",
      "Random Forest 정확도: 1.0000\n",
      "SVM 정확도: 1.0000\n",
      "Logistic Regression 정확도: 1.0000\n"
     ]
    }
   ],
   "source": [
    "models = {\n",
    "    \"Decision Tree\": DecisionTreeClassifier(),  # DT (Decision Tree)\n",
    "    \"Random Forest\": RandomForestClassifier(),  # RF (Random Forest)\n",
    "    \"SVM\": SVC(),  # SVM (Support Vector Machine)\n",
    "    \"Logistic Regression\": LogisticRegression()  # LR (Logistic Regression)\n",
    "}\n",
    "\n",
    "for name, model in models.items():\n",
    "    train_and_evaluate(model, name)"
   ]
  },
  {
   "cell_type": "code",
   "execution_count": null,
   "id": "9a5a0393-e604-4452-8f89-46964227972a",
   "metadata": {},
   "outputs": [],
   "source": []
  }
 ],
 "metadata": {
  "kernelspec": {
   "display_name": "Python [conda env:base] *",
   "language": "python",
   "name": "conda-base-py"
  },
  "language_info": {
   "codemirror_mode": {
    "name": "ipython",
    "version": 3
   },
   "file_extension": ".py",
   "mimetype": "text/x-python",
   "name": "python",
   "nbconvert_exporter": "python",
   "pygments_lexer": "ipython3",
   "version": "3.12.7"
  }
 },
 "nbformat": 4,
 "nbformat_minor": 5
}
