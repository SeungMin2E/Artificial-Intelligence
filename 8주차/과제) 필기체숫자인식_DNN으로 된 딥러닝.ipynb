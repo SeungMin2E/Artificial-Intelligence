{
 "cells": [
  {
   "cell_type": "code",
   "execution_count": 1,
   "id": "ef8fd60c-4b71-4d19-b9b5-d8b22843181f",
   "metadata": {},
   "outputs": [
    {
     "name": "stdout",
     "output_type": "stream",
     "text": [
      "Downloading data from https://storage.googleapis.com/tensorflow/tf-keras-datasets/mnist.npz\n",
      "\u001b[1m11490434/11490434\u001b[0m \u001b[32m━━━━━━━━━━━━━━━━━━━━\u001b[0m\u001b[37m\u001b[0m \u001b[1m1s\u001b[0m 0us/step\n"
     ]
    },
    {
     "name": "stderr",
     "output_type": "stream",
     "text": [
      "C:\\Users\\min22\\anaconda3\\Lib\\site-packages\\keras\\src\\layers\\reshaping\\flatten.py:37: UserWarning: Do not pass an `input_shape`/`input_dim` argument to a layer. When using Sequential models, prefer using an `Input(shape)` object as the first layer in the model instead.\n",
      "  super().__init__(**kwargs)\n"
     ]
    },
    {
     "name": "stdout",
     "output_type": "stream",
     "text": [
      "Epoch 1/5\n",
      "\u001b[1m1875/1875\u001b[0m \u001b[32m━━━━━━━━━━━━━━━━━━━━\u001b[0m\u001b[37m\u001b[0m \u001b[1m12s\u001b[0m 5ms/step - accuracy: 0.8810 - loss: 0.4164\n",
      "Epoch 2/5\n",
      "\u001b[1m1875/1875\u001b[0m \u001b[32m━━━━━━━━━━━━━━━━━━━━\u001b[0m\u001b[37m\u001b[0m \u001b[1m10s\u001b[0m 5ms/step - accuracy: 0.9666 - loss: 0.1080\n",
      "Epoch 3/5\n",
      "\u001b[1m1875/1875\u001b[0m \u001b[32m━━━━━━━━━━━━━━━━━━━━\u001b[0m\u001b[37m\u001b[0m \u001b[1m9s\u001b[0m 5ms/step - accuracy: 0.9786 - loss: 0.0691\n",
      "Epoch 4/5\n",
      "\u001b[1m1875/1875\u001b[0m \u001b[32m━━━━━━━━━━━━━━━━━━━━\u001b[0m\u001b[37m\u001b[0m \u001b[1m10s\u001b[0m 5ms/step - accuracy: 0.9833 - loss: 0.0490\n",
      "Epoch 5/5\n",
      "\u001b[1m1875/1875\u001b[0m \u001b[32m━━━━━━━━━━━━━━━━━━━━\u001b[0m\u001b[37m\u001b[0m \u001b[1m9s\u001b[0m 5ms/step - accuracy: 0.9873 - loss: 0.0394\n",
      "\u001b[1m313/313\u001b[0m \u001b[32m━━━━━━━━━━━━━━━━━━━━\u001b[0m\u001b[37m\u001b[0m \u001b[1m2s\u001b[0m 4ms/step - accuracy: 0.9707 - loss: 0.1043\n",
      "Test accuracy: 0.9745000004768372\n"
     ]
    }
   ],
   "source": [
    "import tensorflow as tf\n",
    "from tensorflow.keras.datasets import mnist\n",
    "from tensorflow.keras.models import Sequential\n",
    "from tensorflow.keras.layers import Dense, Flatten\n",
    "from tensorflow.keras.utils import to_categorical\n",
    "\n",
    "# 데이터 불러오기\n",
    "(x_train, y_train), (x_test, y_test) = mnist.load_data()\n",
    "\n",
    "# 데이터 정규화\n",
    "x_train = x_train / 255.0  # 이미지 숫자 값으 0~1 사이로 바꾸기 원래는 0~255 사이(픽셀 값)\n",
    "x_test = x_test / 255.0 # /255.0 하면 0~1 범위로 정규화 됨 -> 이러면 학습이 더 잘 됨 (속도도 빠름)\n",
    "\n",
    "# 레이블을 원-핫 인코딩, 정답 숫자를 딥러닝용 포맷으로 바꾸기\n",
    "y_train = to_categorical(y_train, 10) # 예 : 숫자 3 -> [0,0,0,1,0,0,0,0,0,0] (10개 중 3번 째 칸이 1) \n",
    "y_test = to_categorical(y_test, 10) \n",
    "\n",
    "# 모델 만들기\n",
    "model = Sequential([ # sequential : 층을 순서대로 쌓음 \n",
    "    Flatten(input_shape=(28, 28)),     # 28x28 -> 784로 펼치기 # Flatten: 이미지를 (28X28) 를 1차원 벡터(784길이)로 펼치기 -> DNN은 펼쳐서 넣어야 함\n",
    "    Dense(128, activation='relu'),     # 은닉층 1 # Dense(128, activation='relu'): 뉴런 128개짜리 은닉층 , relu: 활성화 함수 (양수는 그대로, 음수는 0)\n",
    "    Dense(64, activation='relu'),      # 은닉층 2 # Dense(64, activation='relu') : 또다른 은닉층 (뉴런 64개) \n",
    "    Dense(10, activation='softmax')    # 출력층 # Dense(10, activation='softmax') : 출력층 (0~9 숫자 중 1개 고르기 위해 뉴런 10개) \n",
    "    # softmax : 확률로 변환 (가장 높은 확률이 예측 결과) \n",
    "])\n",
    "\n",
    "# 컴파일\n",
    "model.compile(optimizer='adam', loss='categorical_crossentropy', metrics=['accuracy']) # optimizer = 'adam' : 학습방법-> 가중치들을 자동으로 잘 조절해줌\n",
    "# loss='categorical_crossentropy : 손실함수 -> 예측이 틀릴 수록 값이 커지고, 맞을수록 작아짐(다중 분류용) \n",
    "# metrics = ['accuracy'] : 학습하면서 정확도도 같이 측정하겠다\n",
    "\n",
    "\n",
    "# 학습\n",
    "model.fit(x_train, y_train, epochs=5, batch_size=32)\n",
    "# epochs=5 : 전체 데이터셋을 5번 반복해서 학습 \n",
    "# batch_size=32 : 한번에 32개씩 데이터를 모델에 넣고 가중치 업데이트 \n",
    "\n",
    "\n",
    "# 평가\n",
    "test_loss, test_acc = model.evaluate(x_test, y_test) # model.evaluate() : 테스트 데이터로 정확도와 손실값 확인 \n",
    "print(f\"Test accuracy: {test_acc}\") # print()로 정확도 출력 "
   ]
  },
  {
   "cell_type": "code",
   "execution_count": 3,
   "id": "dff362b6-a44b-448c-b8f2-d0d8bcffd15a",
   "metadata": {},
   "outputs": [
    {
     "name": "stdout",
     "output_type": "stream",
     "text": [
      "\u001b[1m1/1\u001b[0m \u001b[32m━━━━━━━━━━━━━━━━━━━━\u001b[0m\u001b[37m\u001b[0m \u001b[1m0s\u001b[0m 173ms/step\n"
     ]
    },
    {
     "data": {
      "image/png": "[encoded data removed]",
      "text/plain": [
       "<Figure size 600x600 with 9 Axes>"
      ]
     },
     "metadata": {},
     "output_type": "display_data"
    }
   ],
   "source": [
    "import numpy as np\n",
    "import matplotlib.pyplot as plt\n",
    "\n",
    "# 테스트 데이터에서 9장 뽑아서 예측해 보기\n",
    "predictions = model.predict(x_test[:9])  # x_test[:9] : 테스트 데이터 중 앞에 있는 9장만 선택\n",
    "#  model.predict(): 이미지를 넣으면 모델이 예측 확률을 반환해줌 \n",
    "\n",
    "plt.figure(figsize=(6,6)) # 6X6 사이즈로 9장의 이미지 그릴 준비 \n",
    "for i in range(9):\n",
    "    plt.subplot(3,3,i+1) # 3x3 격자 중에서 위치 정하기 \n",
    "    plt.imshow(x_test[i], cmap='gray')\n",
    "    true_label = np.argmax(y_test[i])            # 원래 정답\n",
    "    predicted_label = np.argmax(predictions[i])  # 모델 예측 , predictions[i]는 10개의 확률 값임, np.argmax() 쓰면 가장 확률 높은 숫자를 예측 결과로 뽑음\n",
    "    plt.title(f\"True: {true_label}, Pred: {predicted_label}\") # True : 실제 정답 숫자, Pred : 모델이 예측한 숫자\n",
    "    plt.axis('off')\n",
    "plt.show()"
   ]
  },
  {
   "cell_type": "code",
   "execution_count": null,
   "id": "05996213-585d-4aa6-a414-58f82902ea9b",
   "metadata": {},
   "outputs": [],
   "source": []
  }
 ],
 "metadata": {
  "kernelspec": {
   "display_name": "Python (tensorflow_env)",
   "language": "python",
   "name": "tensorflow_env"
  },
  "language_info": {
   "codemirror_mode": {
    "name": "ipython",
    "version": 3
   },
   "file_extension": ".py",
   "mimetype": "text/x-python",
   "name": "python",
   "nbconvert_exporter": "python",
   "pygments_lexer": "ipython3",
   "version": "3.12.7"
  }
 },
 "nbformat": 4,
 "nbformat_minor": 5
}
